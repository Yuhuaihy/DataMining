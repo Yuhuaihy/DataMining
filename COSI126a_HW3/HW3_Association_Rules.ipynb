{
 "cells": [
  {
   "cell_type": "markdown",
   "metadata": {},
   "source": [
    "## Student Information\n",
    "Please fill in the block below. End each line with two spaces.\n",
    "\n",
    "Name: Yu Huai  \n",
    "Email: yhuai@brandeis.edu   \n",
    "Date: 11/17/2018 "
   ]
  },
  {
   "cell_type": "code",
   "execution_count": 5,
   "metadata": {},
   "outputs": [],
   "source": [
    "import pandas as pd"
   ]
  },
  {
   "cell_type": "code",
   "execution_count": 4,
   "metadata": {},
   "outputs": [],
   "source": [
    "# Sample data path is used for display.\n",
    "sample_data_path = 'Online_Retail_Sample.csv'\n",
    "\n",
    "# You may wish to extract other samples from the full dataset\n",
    "# for practice.\n",
    "real_data_path = 'Online_Retail.csv'"
   ]
  },
  {
   "cell_type": "code",
   "execution_count": null,
   "metadata": {},
   "outputs": [],
   "source": []
  },
  {
   "cell_type": "markdown",
   "metadata": {},
   "source": [
    "# Sample Data Format"
   ]
  },
  {
   "cell_type": "code",
   "execution_count": 85,
   "metadata": {},
   "outputs": [
    {
     "data": {
      "text/html": [
       "<div>\n",
       "<style scoped>\n",
       "    .dataframe tbody tr th:only-of-type {\n",
       "        vertical-align: middle;\n",
       "    }\n",
       "\n",
       "    .dataframe tbody tr th {\n",
       "        vertical-align: top;\n",
       "    }\n",
       "\n",
       "    .dataframe thead th {\n",
       "        text-align: right;\n",
       "    }\n",
       "</style>\n",
       "<table border=\"1\" class=\"dataframe\">\n",
       "  <thead>\n",
       "    <tr style=\"text-align: right;\">\n",
       "      <th></th>\n",
       "      <th>0</th>\n",
       "      <th>1</th>\n",
       "      <th>2</th>\n",
       "      <th>3</th>\n",
       "      <th>4</th>\n",
       "      <th>5</th>\n",
       "    </tr>\n",
       "  </thead>\n",
       "  <tbody>\n",
       "    <tr>\n",
       "      <th>0</th>\n",
       "      <td>1084</td>\n",
       "      <td>1097</td>\n",
       "      <td>1126</td>\n",
       "      <td>2183.0</td>\n",
       "      <td>2375.0</td>\n",
       "      <td>NaN</td>\n",
       "    </tr>\n",
       "    <tr>\n",
       "      <th>1</th>\n",
       "      <td>1261</td>\n",
       "      <td>1394</td>\n",
       "      <td>2375</td>\n",
       "      <td>NaN</td>\n",
       "      <td>NaN</td>\n",
       "      <td>NaN</td>\n",
       "    </tr>\n",
       "    <tr>\n",
       "      <th>2</th>\n",
       "      <td>582</td>\n",
       "      <td>644</td>\n",
       "      <td>668</td>\n",
       "      <td>1082.0</td>\n",
       "      <td>1100.0</td>\n",
       "      <td>NaN</td>\n",
       "    </tr>\n",
       "    <tr>\n",
       "      <th>3</th>\n",
       "      <td>349</td>\n",
       "      <td>897</td>\n",
       "      <td>1142</td>\n",
       "      <td>1243.0</td>\n",
       "      <td>2316.0</td>\n",
       "      <td>2363.0</td>\n",
       "    </tr>\n",
       "    <tr>\n",
       "      <th>4</th>\n",
       "      <td>1098</td>\n",
       "      <td>1143</td>\n",
       "      <td>1816</td>\n",
       "      <td>2375.0</td>\n",
       "      <td>2402.0</td>\n",
       "      <td>NaN</td>\n",
       "    </tr>\n",
       "    <tr>\n",
       "      <th>5</th>\n",
       "      <td>121</td>\n",
       "      <td>219</td>\n",
       "      <td>363</td>\n",
       "      <td>1500.0</td>\n",
       "      <td>1943.0</td>\n",
       "      <td>NaN</td>\n",
       "    </tr>\n",
       "    <tr>\n",
       "      <th>6</th>\n",
       "      <td>964</td>\n",
       "      <td>1017</td>\n",
       "      <td>1126</td>\n",
       "      <td>2096.0</td>\n",
       "      <td>2183.0</td>\n",
       "      <td>NaN</td>\n",
       "    </tr>\n",
       "    <tr>\n",
       "      <th>7</th>\n",
       "      <td>1079</td>\n",
       "      <td>1189</td>\n",
       "      <td>2316</td>\n",
       "      <td>2356.0</td>\n",
       "      <td>NaN</td>\n",
       "      <td>NaN</td>\n",
       "    </tr>\n",
       "    <tr>\n",
       "      <th>8</th>\n",
       "      <td>766</td>\n",
       "      <td>1079</td>\n",
       "      <td>1720</td>\n",
       "      <td>1816.0</td>\n",
       "      <td>2356.0</td>\n",
       "      <td>NaN</td>\n",
       "    </tr>\n",
       "    <tr>\n",
       "      <th>9</th>\n",
       "      <td>209</td>\n",
       "      <td>298</td>\n",
       "      <td>593</td>\n",
       "      <td>1565.0</td>\n",
       "      <td>NaN</td>\n",
       "      <td>NaN</td>\n",
       "    </tr>\n",
       "    <tr>\n",
       "      <th>10</th>\n",
       "      <td>276</td>\n",
       "      <td>1709</td>\n",
       "      <td>1737</td>\n",
       "      <td>NaN</td>\n",
       "      <td>NaN</td>\n",
       "      <td>NaN</td>\n",
       "    </tr>\n",
       "  </tbody>\n",
       "</table>\n",
       "</div>"
      ],
      "text/plain": [
       "       0     1     2       3       4       5\n",
       "0   1084  1097  1126  2183.0  2375.0     NaN\n",
       "1   1261  1394  2375     NaN     NaN     NaN\n",
       "2    582   644   668  1082.0  1100.0     NaN\n",
       "3    349   897  1142  1243.0  2316.0  2363.0\n",
       "4   1098  1143  1816  2375.0  2402.0     NaN\n",
       "5    121   219   363  1500.0  1943.0     NaN\n",
       "6    964  1017  1126  2096.0  2183.0     NaN\n",
       "7   1079  1189  2316  2356.0     NaN     NaN\n",
       "8    766  1079  1720  1816.0  2356.0     NaN\n",
       "9    209   298   593  1565.0     NaN     NaN\n",
       "10   276  1709  1737     NaN     NaN     NaN"
      ]
     },
     "metadata": {},
     "output_type": "display_data"
    }
   ],
   "source": [
    "# The general format of the dataset.\n",
    "# Each row corresponds to a transaction.\n",
    "# Each number corresponds to the ID of a product bought in the transaction.\n",
    "df = pd.read_csv(sample_data_path, names=list(range(0,6)))\n",
    "display(df)"
   ]
  },
  {
   "cell_type": "code",
   "execution_count": null,
   "metadata": {},
   "outputs": [],
   "source": []
  },
  {
   "cell_type": "markdown",
   "metadata": {},
   "source": [
    "# Expected Output Format"
   ]
  },
  {
   "cell_type": "markdown",
   "metadata": {},
   "source": [
    "#### Helper functions for prepping dummy data"
   ]
  },
  {
   "cell_type": "code",
   "execution_count": null,
   "metadata": {},
   "outputs": [],
   "source": [
    "def generate_dummy_data():\n",
    "    item_a_id = pd.DataFrame(random.sample(range(1, 2000), 100))\n",
    "    item_b_id = pd.DataFrame(random.sample(range(1, 2000), 100))\n",
    "    support_ab = pd.DataFrame([random.uniform(0, 0.1) for _ in range(100)])\n",
    "    confidence_a_to_b = pd.DataFrame([random.uniform(0, 0.5) for _ in range(100)])\n",
    "    confidence_b_to_a = pd.DataFrame([random.uniform(0, 0.5) for _ in range(100)])\n",
    "    return [item_a_id, item_b_id, support_ab,\n",
    "            confidence_a_to_b, confidence_b_to_a]\n",
    "\n",
    "def generate_cols():\n",
    "    cols = ['item_a',\n",
    "            'item_b',\n",
    "            'support_ab',\n",
    "            'confidence_a_to_b',\n",
    "            'confidence_b_to_a']\n",
    "    return cols\n",
    "\n",
    "def prep_df(dummy_data, cols):\n",
    "    df = pd.concat(dummy_data, axis=1)\n",
    "    df.columns = cols\n",
    "    df.sort_values(by='support_ab', inplace=True, ascending=False)\n",
    "    df.reset_index(inplace=True, drop=True)\n",
    "    return df"
   ]
  },
  {
   "cell_type": "markdown",
   "metadata": {},
   "source": [
    "### Expected output\n",
    "\n",
    "Below you may find the type of output that you are expected to produce, sorted by support."
   ]
  },
  {
   "cell_type": "code",
   "execution_count": null,
   "metadata": {
    "scrolled": true
   },
   "outputs": [],
   "source": [
    "import pandas as pd\n",
    "import random\n",
    "\n",
    "dummy_data = generate_dummy_data()\n",
    "cols = generate_cols()\n",
    "\n",
    "df = prep_df(dummy_data, cols)\n",
    "\n",
    "display(df)"
   ]
  },
  {
   "cell_type": "code",
   "execution_count": null,
   "metadata": {},
   "outputs": [],
   "source": []
  },
  {
   "cell_type": "markdown",
   "metadata": {},
   "source": [
    "# Your code\n",
    "\n",
    "You may use any existing packages, algorithms, etc.  \n",
    "\n",
    "Please include website links for any imports used.  \n",
    "\n",
    "Please describe your code and how you used any imports in the comments.  "
   ]
  },
  {
   "cell_type": "code",
   "execution_count": null,
   "metadata": {},
   "outputs": [],
   "source": [
    "# Your code goes here."
   ]
  },
  {
   "cell_type": "code",
   "execution_count": null,
   "metadata": {},
   "outputs": [],
   "source": [
    "import pandas as pd\n",
    "# from IPython import embed\n",
    "real_data_path = 'Online_Retail.csv'\n",
    "df = pd.read_csv(real_data_path, names=list(range(0,6)))\n",
    "data = df.values\n",
    "# test_data = data[:1000]\n",
    "# test_df = df.iloc[:1000]\n",
    "\n",
    "def generateTwoItemsets(oneItemsets, miniSupport, itemFreq):\n",
    "    ## if 1-itemset is not frequent(< miniSupport), skip it\n",
    "    ## 比如 oneItemsets = [a,b,c,d], 但是a 出现次数< minisupport, return [(b,c),(b,d),(c,d)]\n",
    "    num = len(oneItemsets)\n",
    "    twoItemsets = []\n",
    "    for i in range(num-1):\n",
    "        item1 = oneItemsets[i]\n",
    "        if itemFreq[item1] < miniSupport:\n",
    "            continue\n",
    "        for j in range(i+1, num):\n",
    "            item2 = oneItemsets[j]\n",
    "            if itemFreq[item2] < miniSupport:\n",
    "                continue\n",
    "            twoItemsets.append((item1, item2))\n",
    "    return twoItemsets\n",
    "\n",
    "def oneItemsetFreq(data):\n",
    "    #count item occurance\n",
    "    dataFlat = data.flatten()\n",
    "    import collections as cl\n",
    "    itemFreq = cl.Counter(dataFlat)\n",
    "    return itemFreq\n",
    "\n",
    "def twoItemsetFreq(df, itemFreq, miniSupport):\n",
    "    ## 遍历每一条数据， 统计pair出现次数\n",
    "    total, _ = df.shape\n",
    "    twoItemFreq = {}\n",
    "    for i in range(total):\n",
    "        items = list(df.iloc[i])\n",
    "        pairs = generateTwoItemsets(items, miniSupport, itemFreq)\n",
    "        for pair in pairs:\n",
    "            item1, item2 = pair\n",
    "            twoItemFreq[(item1, item2)] = twoItemFreq.get((item1, item2), 0) + 1\n",
    "    return twoItemFreq\n",
    "    \n",
    "\n",
    "def computeConfidence(itemFreq, twoItemsets, item1, item2):\n",
    "    confidence1 = twoItemsets[(item1, item2)] / itemFreq[item1]\n",
    "    confidence2 = twoItemsets[(item1, item2)] / itemFreq[item2]\n",
    "    return confidence1, confidence2\n",
    "    \n",
    "total, _ = df.shape    \n",
    "miniSupport = 50  ##我设了一个threshold过滤掉那些单个出现频率特别少的， 50是我随便写的 \n",
    "oneItemFreq = oneItemsetFreq(data)  ## 统计每个item出现的次数\n",
    "# oneItemFreq = oneItemsetFreq(test_data)\n",
    "twoItemsets = twoItemsetFreq(df, oneItemFreq, miniSupport)  ##统计data里的每一个pair出现的次数， 如果a出现< minisupport，就不统计和a组队的了\n",
    "item_a = []\n",
    "item_b = []\n",
    "support_ab = []\n",
    "confidence_a_to_b = []\n",
    "confidence_b_to_a = []\n",
    "for pair, support in twoItemsets.items():\n",
    "    itema, itemb = pair\n",
    "    item_a.append(itema)\n",
    "    item_b.append(itemb)\n",
    "    support_ab.append(support/ total * 1.0)\n",
    "    conf1, conf2 = computeConfidence(oneItemFreq, twoItemsets, itema, itemb)\n",
    "    confidence_a_to_b.append(conf1)\n",
    "    confidence_b_to_a.append(conf2)\n",
    "\n",
    "cols = generate_cols()\n",
    "outdata = [pd.DataFrame(item_a), pd.DataFrame(item_b),pd.DataFrame(support_ab), pd.DataFrame(confidence_a_to_b),pd.DataFrame(confidence_b_to_a) ]\n",
    "output =  prep_df(outdata, cols)\n",
    "output.head(100)"
   ]
  },
  {
   "cell_type": "code",
   "execution_count": null,
   "metadata": {},
   "outputs": [],
   "source": []
  },
  {
   "cell_type": "code",
   "execution_count": null,
   "metadata": {},
   "outputs": [],
   "source": []
  },
  {
   "cell_type": "code",
   "execution_count": null,
   "metadata": {},
   "outputs": [],
   "source": []
  },
  {
   "cell_type": "code",
   "execution_count": null,
   "metadata": {},
   "outputs": [],
   "source": []
  },
  {
   "cell_type": "code",
   "execution_count": null,
   "metadata": {},
   "outputs": [],
   "source": []
  },
  {
   "cell_type": "code",
   "execution_count": null,
   "metadata": {},
   "outputs": [],
   "source": []
  },
  {
   "cell_type": "code",
   "execution_count": null,
   "metadata": {},
   "outputs": [],
   "source": []
  },
  {
   "cell_type": "code",
   "execution_count": null,
   "metadata": {},
   "outputs": [],
   "source": []
  },
  {
   "cell_type": "code",
   "execution_count": null,
   "metadata": {},
   "outputs": [],
   "source": []
  },
  {
   "cell_type": "code",
   "execution_count": null,
   "metadata": {},
   "outputs": [],
   "source": []
  },
  {
   "cell_type": "code",
   "execution_count": null,
   "metadata": {},
   "outputs": [],
   "source": []
  },
  {
   "cell_type": "code",
   "execution_count": null,
   "metadata": {},
   "outputs": [],
   "source": []
  },
  {
   "cell_type": "code",
   "execution_count": null,
   "metadata": {},
   "outputs": [],
   "source": []
  },
  {
   "cell_type": "code",
   "execution_count": null,
   "metadata": {},
   "outputs": [],
   "source": []
  },
  {
   "cell_type": "code",
   "execution_count": null,
   "metadata": {},
   "outputs": [],
   "source": []
  },
  {
   "cell_type": "code",
   "execution_count": null,
   "metadata": {},
   "outputs": [],
   "source": []
  },
  {
   "cell_type": "code",
   "execution_count": null,
   "metadata": {},
   "outputs": [],
   "source": []
  },
  {
   "cell_type": "code",
   "execution_count": null,
   "metadata": {},
   "outputs": [],
   "source": []
  }
 ],
 "metadata": {
  "kernelspec": {
   "display_name": "Python 3",
   "language": "python",
   "name": "python3"
  },
  "language_info": {
   "codemirror_mode": {
    "name": "ipython",
    "version": 3
   },
   "file_extension": ".py",
   "mimetype": "text/x-python",
   "name": "python",
   "nbconvert_exporter": "python",
   "pygments_lexer": "ipython3",
   "version": "3.7.0"
  }
 },
 "nbformat": 4,
 "nbformat_minor": 2
}
